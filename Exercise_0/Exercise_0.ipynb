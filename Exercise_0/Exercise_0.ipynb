{
 "metadata": {
  "name": "Untitled0"
 },
 "nbformat": 3,
 "nbformat_minor": 0,
 "worksheets": [
  {
   "cells": [
    {
     "cell_type": "heading",
     "level": 1,
     "metadata": {},
     "source": "Exercise 0 - Getting started with Python"
    },
    {
     "cell_type": "heading",
     "level": 2,
     "metadata": {},
     "source": "0.1 - FizzBuzz"
    },
    {
     "cell_type": "code",
     "collapsed": false,
     "input": "a, b = 1, 100  # range of numbers to test\n\nfor i in range(a, b+1):\n    if i % 5 == 0 and i % 3 == 0:  # using the modulo operator %\n        print \"FizzBuzz\"\n    elif i % 3 == 0:\n        print \"Fizz\"\n    elif i % 5 == 0:\n        print \"Buzz\"\n    else:\n        print i",
     "language": "python",
     "metadata": {},
     "outputs": []
    },
    {
     "cell_type": "heading",
     "level": 2,
     "metadata": {},
     "source": "0.2 - Plot sin(x)"
    },
    {
     "cell_type": "code",
     "collapsed": true,
     "input": "import matplotlib.pyplot as plt\nimport numpy as np\n\na, b = -1, 1  # range of values for x\nstep = 0.01  # granularity of the plot (the smaller 'step', the better the resolution)\nx = np.arange(a, b+step, step)  # = create a list of numbers from a to b (including b) with step size 'size'\ny = np.sin(x)\n\nplt.figure()\nplt.plot(x, y)\nplt.title('Exercise 0.2 - Plot sin(x)')\nplt.xlabel('x')\nplt.ylabel('sin(x)')\nplt.show()",
     "language": "python",
     "metadata": {},
     "outputs": []
    },
    {
     "cell_type": "heading",
     "level": 2,
     "metadata": {},
     "source": "0.3 - Compute n!"
    },
    {
     "cell_type": "code",
     "collapsed": false,
     "input": "# define a recursive function to compute the faculty of an integer number n\ndef faculty(n):\n    if n <= 1:  # attention: 0! = 1\n        return 1\n    else:\n        return n * faculty(n-1)\n    \n\n# print faculty of 5\nprint faculty(5)",
     "language": "python",
     "metadata": {},
     "outputs": []
    },
    {
     "cell_type": "heading",
     "level": 2,
     "metadata": {},
     "source": "0.4 - Eigenvalues and eigenvectors"
    },
    {
     "cell_type": "code",
     "collapsed": false,
     "input": "import numpy as np\nnp.set_printoptions(precision=2)\n\n# input matrix A\nA = np.array([[6, 1, -3], [2, -5, 4], [0, 1, 0]])\n\nprint \"Matrix A =\"\nprint A\n\n# use numpy to find eigenvectors and eigenvalues\nl, P = np.linalg.eig(A)\n\nprint \"Eigenvalues L =\", l\nprint \"Eigenvectors P =\", [P[:, i] for i in range(P.shape[1])]",
     "language": "python",
     "metadata": {},
     "outputs": []
    },
    {
     "cell_type": "code",
     "collapsed": false,
     "input": "# build diagonal matrix from eigenvalues\nL = np.diag(l)\n\n# invert eigenvectors\nPinv = np.linalg.inv(P)\n\nprint \"P*L*P^(-1) =\"\nprint np.dot(np.dot(P, L), Pinv)\n\nprint \"P*L*P^(-1) == A?\", np.allclose(np.dot(np.dot(P, L), Pinv), A)",
     "language": "python",
     "metadata": {},
     "outputs": []
    }
   ],
   "metadata": {}
  }
 ]
}